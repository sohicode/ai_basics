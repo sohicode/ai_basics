{
  "nbformat": 4,
  "nbformat_minor": 0,
  "metadata": {
    "colab": {
      "provenance": [],
      "toc_visible": true
    },
    "kernelspec": {
      "name": "python3",
      "display_name": "Python 3"
    },
    "language_info": {
      "name": "python"
    }
  },
  "cells": [
    {
      "cell_type": "markdown",
      "source": [
        "## 회귀(Regression)\n",
        "- 데이터를 잘 설명하는 선 그리기\n",
        "- 데이터를 잘 설명하는 오차가 가장 적은 선 그리기\n",
        "- 데이터를 잘 설명하는 선의 기울기($W$)와 절편($b$) 찾기\n",
        "- 회귀는 $y=f(x)$에서 입력($x$)과 출력($y$)이 실수일 때, 함수 $f(x)$를 예측하는 것\n",
        "\n",
        "<img src=\"https://miro.medium.com/v2/resize:fit:828/format:webp/0*Yfz5JM6W3a36FLD8.png\" width=600>\n",
        "\n",
        "이미지출처: https://medium.datadriveninvestor.com/linear-regression-and-its-mathematical-implementation-29d520a75ede"
      ],
      "metadata": {
        "id": "PRii7uaaZ47u"
      }
    },
    {
      "cell_type": "markdown",
      "source": [
        "### 선형 회귀(Linear Regression)의 기본식\n",
        "$\n",
        "\\begin{aligned}\n",
        "f(x) &= {Wx+b} \\\\\n",
        "\\end{aligned}\n",
        "$\n",
        "\n",
        "- $W$: 기울기 $\\rightarrow$ 가중치(weight)\n",
        "- $b$: 절편 $\\rightarrow$ 편향(bias)"
      ],
      "metadata": {
        "id": "RszJ7odVdzHq"
      }
    },
    {
      "cell_type": "markdown",
      "source": [
        "### 선형 회귀의 예\n",
        "- 부모의 키와 자녀의 키의 관계\n",
        "- 면적에 따른 주택의 가격\n",
        "- 연령에 따른 실업율 예측\n",
        "- 공부 시간과 학점 과의 관계\n",
        "- CPU 속도와 프로그램 실행 시간 예측"
      ],
      "metadata": {
        "id": "2DQS4k5e3Il9"
      }
    },
    {
      "cell_type": "markdown",
      "source": [
        "#### [code] LinearRegression 모델 학습 예측"
      ],
      "metadata": {
        "id": "PUxpDvKx3Xr7"
      }
    },
    {
      "cell_type": "code",
      "source": [
        "import matplotlib.pylab as plt\n",
        "from sklearn import linear_model\n",
        "\n",
        "# 선형 회귀 모델을 생성한다.\n",
        "reg = linear_model.LinearRegression()\n",
        "\n",
        "# 데이터는 파이썬의 리스트로 만들어도 되고 아니면 넘파이의 배열로 만들어도 됨\n",
        "X = [[0], [1], [2]]\t\t# 반드시 2차원으로 만들어야 함\n",
        "y = [-1, 0, 4]\n",
        "\n",
        "# 학습을 시킨다.\n",
        "reg.fit(X, y)\n",
        "\n",
        "# 학습 데이터를 입력으로 하여 예측값을 계산한다.\n",
        "y_pred = reg.predict(X)\n",
        "\n",
        "# 학습 데이터와 y 값을 산포도로 그린다.\n",
        "plt.scatter(X, y, color='black')\n",
        "\n",
        "# 학습 데이터와 예측값으로 선그래프로 그린다.\n",
        "# 계산된 기울기와 y 절편을 가지는 직선이 그려진다.\n",
        "plt.plot(X, y_pred, color='red', linewidth=2)\n",
        "\n",
        "# 예측\n",
        "x_pred = 1.5\n",
        "print(\"x= [\"+str(x_pred)+\"], y=\", reg.predict([[x_pred]]))\n",
        "plt.scatter([[x_pred]], reg.predict([[x_pred]]), color='green', s=100, marker = 'o')\n",
        "\n",
        "plt.show()"
      ],
      "metadata": {
        "id": "9Yvy0HKTdySd",
        "colab": {
          "base_uri": "https://localhost:8080/",
          "height": 447
        },
        "outputId": "6fe12de1-742a-4d41-fdf9-f0ff95d925e1"
      },
      "execution_count": null,
      "outputs": [
        {
          "output_type": "stream",
          "name": "stdout",
          "text": [
            "x= [1.5], y= [2.25]\n"
          ]
        },
        {
          "output_type": "display_data",
          "data": {
            "text/plain": [
              "<Figure size 640x480 with 1 Axes>"
            ],
            "image/png": "[encoded data removed]"
          },
          "metadata": {}
        }
      ]
    },
    {
      "cell_type": "markdown",
      "source": [
        "## 손실함수 최소화하기"
      ],
      "metadata": {
        "id": "7mNAu128NG2b"
      }
    },
    {
      "cell_type": "markdown",
      "source": [
        "### 손실함수(Loss function):\n",
        "- 지도학습(Supervised Learning)에서 알고리즘이 예측한 값과 실제 정답의 차이를 비교하기 위한 함수\n",
        "- '학습 중에 알고리즘이 얼마나 잘못 예측하는 정도'를 확인하기 위한 함수\n",
        "- 최적화(Optimization)를 위해 최소화하는 것이 목적인 함수\n",
        "- 손실 함수를 목적 함수(Objective Function)라고도 함\n",
        "\n",
        "$$\n",
        "\\begin{aligned}\n",
        "Loss &= {1\\over3} ((f(x_1)-y_1)^2+(f(x_2)-y_2)^2+(f(x_3)-y_3)^2)\\\\\n",
        "Loss &= {1 \\over n} \\sum_{i=1}^{n} {(f(x_i)-y_i)^2} \\\\\n",
        "Loss(W,b) &= {1 \\over n} \\sum_{i=1}^{n} {((Wx_i+b)-y_i)^2} \\\\\n",
        "\\end{aligned}\n",
        "$$\n",
        "\n",
        "\n",
        "평균제곱오차(MSE, Mean Squared Error)\n",
        "- 오차(error)를 제곱한 값의 평균\n",
        "\n",
        "<img src=\"https://www.jmp.com/en_se/statistics-knowledge-portal/what-is-multiple-regression/fitting-multiple-regression-model/_jcr_content/par/styledcontainer_2069/par/lightbox_4130/lightboxImage.img.png/1548351208631.png\" width=600>\n",
        "\n",
        "이미지출처: https://www.jmp.com/en_se/statistics-knowledge-portal/what-is-multiple-regression/fitting-multiple-regression-model.html"
      ],
      "metadata": {
        "id": "1ZqMNrAfVqUr"
      }
    },
    {
      "cell_type": "markdown",
      "source": [
        "$$\n",
        "\\begin{aligned}\n",
        "Data&= [ (0, -1), (1, 0), (2, 4) ] \\\\\n",
        "Loss&={1\\over3} ((f(x_1)-y_1)^2+(f(x_2)-y_2)^2+(f(x_3)-y_3)^2)\\\\\n",
        "    &={1\\over3} ((f(0)-(-1))^2+(f(1)-0)^2+(f(2)-4)^2)\\\\\n",
        "    &={1\\over3} (((W\\times0+b)-(-1))^2+((W\\times1+b)-0)^2+((W\\times2+b)-4)^2)\\\\\n",
        "\\end{aligned}\n",
        "$$"
      ],
      "metadata": {
        "id": "0RNIrQ1mKqC2"
      }
    },
    {
      "cell_type": "markdown",
      "source": [
        "#### [code] 직선 선택하기"
      ],
      "metadata": {
        "id": "v3D9K1vRj4za"
      }
    },
    {
      "cell_type": "code",
      "source": [
        "import numpy as np\n",
        "import matplotlib.pyplot as plt\n",
        "\n",
        "# 학습 데이터 생성\n",
        "x = [0, 1, 2]\n",
        "y = [-1, 0, 4]\n",
        "\n",
        "# 파라미터 값 설정(임의의 값 저장)\n",
        "W = 3\n",
        "b = -0.5\n",
        "\n",
        "# 선형회귀 함수\n",
        "def f(x):\n",
        "  return (W * x) + b\n",
        "\n",
        "# 평균제곱오차(MSE, Mean Square Error)\n",
        "def MSE(x, y):\n",
        "  s = 0\n",
        "  for i in range(0, len(y)):\n",
        "    s = s + ((f(x[i]) - y[i]) ** 2)\n",
        "  return s / (i + 1)\n",
        "print('선형모델', W,'x+', b,'의 평균제곱오차 =', MSE(x, y))\n",
        "\n",
        "# 입력값(x, y) - 특징 값(x, feature), 결과 값(y, label)는 점으로 표시\n",
        "plt.scatter(x, y, color='black')\n",
        "# 예측값(x, y') - 선형회귀 함수로 예측한 값(y')은 선으로 표시\n",
        "plt.plot([min(x)-1, max(x)+1], [f(min(x)-1), f(max(x)+1)], color='red')\n",
        "#plt.grid()\n",
        "plt.show()"
      ],
      "metadata": {
        "colab": {
          "base_uri": "https://localhost:8080/",
          "height": 447
        },
        "id": "kQCuDB8LZ4MQ",
        "outputId": "4ca2a307-9b7d-4e86-8fd0-18aee390d3a6"
      },
      "execution_count": null,
      "outputs": [
        {
          "output_type": "stream",
          "name": "stdout",
          "text": [
            "선형모델 3 x+ -0.5 의 평균제곱오차 = 2.9166666666666665\n"
          ]
        },
        {
          "output_type": "display_data",
          "data": {
            "text/plain": [
              "<Figure size 640x480 with 1 Axes>"
            ],
            "image/png": "[encoded data removed]"
          },
          "metadata": {}
        }
      ]
    },
    {
      "cell_type": "markdown",
      "source": [
        "### '알고리즘을 학습한다'의 수학적 의미\n",
        "$$\n",
        "\\begin{aligned}\n",
        "{\\tilde\\theta} &= {\\underset{\\theta}{argmin}} Loss(x, y; \\theta) \\\\\n",
        "{\\hat W, \\hat b} &= {\\underset{W, b}{argmin}} Loss(x, y; W, b) \\\\\n",
        "\\end{aligned}\n",
        "$$\n",
        "\n",
        "- $Loss$: 손실 함수\n",
        "- $argmin$: arguments of minimum을 축약한 수학적 표현으로, 목적 함수(손실 함수, $L$)를 최소화하는 입력값을 찾는 역할\n",
        "- $x$: 학습 데이터의 입력값으로, $x$로 얻어낸 예측값($\\hat{y}$)은 정답($y$)과 비교\n",
        "- $y$: 학습 데이터의 정답, 결과, 레이블\n",
        "- $\\theta$: 알고리즘 학습 시 사용되는 모든 파라미터의 벡터, $(W, b)$\n",
        "- $\\tilde\\theta$: 추정된 최적의 파라미터, $(\\hat W, \\hat b)$\n",
        "\n",
        "알고리즘을 학습하는 것은 알고리즘이 예측한 값($\\hat{y}$)이 정답($y$)과 최대한 근접하게 만드는 과정\n",
        "\n",
        "학습 데이터($x, y$)는 고정된 값이므로, 알고리즘 학습 시 사용되는 최적의 파라미터 $\\tilde\\theta$를 찾아 손실함수($Loss$)를 최소화하는 과정\n",
        "\n",
        "즉, 손실함수($Loss$)를 최소로 하는 $\\tilde\\theta$($\\hat W$, $\\hat b$)를 찾기\n",
        "\n",
        "**기계학습에서 모델을 학습시킨다는 것은 레이블이 있는 데이터로부터 올바른 가중치(W)와 바이어스 값(b)을 학습(결정)하는 것이다.**\n",
        "\n",
        "<img src=\"https://img1.daumcdn.net/thumb/R1280x0/?scode=mtistory2&fname=https%3A%2F%2Fblog.kakaocdn.net%2Fdn%2Fc5UBS6%2FbtrzN2JXAUh%2Fb2b1crrvrXKqZyyjbUJ6Rk%2Fimg.png\" width=400>\n",
        "\n",
        "이미지 출처: https://heytech.tistory.com/361"
      ],
      "metadata": {
        "id": "wKwzmBdriFqe"
      }
    },
    {
      "cell_type": "markdown",
      "source": [
        "#### [code] 손실함수"
      ],
      "metadata": {
        "id": "46qllTx4kUsw"
      }
    },
    {
      "cell_type": "code",
      "source": [
        "import numpy as np\n",
        "import matplotlib.pyplot as plt\n",
        "\n",
        "# 손실함수 - 평균제곱오차(MSE, Mean Square Error)\n",
        "def Loss(x, y, W, b):\n",
        "  s = 0\n",
        "  for i in range(0, len(y)):\n",
        "    y_pred = (W * x[i]) + b\n",
        "    s = s + ((y_pred - y[i]) ** 2)\n",
        "  return s / (i + 1)"
      ],
      "metadata": {
        "id": "76krtkO0UeSS"
      },
      "execution_count": null,
      "outputs": []
    },
    {
      "cell_type": "markdown",
      "source": [
        "#### [code] Parameter값 변화에 따른 손실함수 값 변화"
      ],
      "metadata": {
        "id": "dfsgFM-DkkOo"
      }
    },
    {
      "cell_type": "code",
      "source": [
        "# 학습 데이터 생성\n",
        "x = [0, 1, 2]\n",
        "y = [-1, 0, 4]\n",
        "\n",
        "# 변화하는 파라미터(W) 값\n",
        "W_values = np.arange(-5, 10, 0.5)\n",
        "# 임의의 고정된 파라미터(b) 값\n",
        "b = -1.5\n",
        "\n",
        "# 파라미터(W) 값 변화에 따른 손실 함수(Loss) 값\n",
        "Loss_values = []\n",
        "for W in W_values:\n",
        "  Loss_values.append(Loss(x, y, W, b))\n",
        "\n",
        "\n",
        "# 손실 함수의 최저값 요소의 인덱스\n",
        "Loss_argmin = np.argmin(Loss_values)\n",
        "print('W=', W_values[Loss_argmin])\n",
        "print('Loss=', Loss_values[Loss_argmin])\n",
        "\n",
        "# 파라미터(W), 손실 함수(Loss) 그래프\n",
        "plt.xlabel('W')\n",
        "plt.ylabel('Loss(W,b)')\n",
        "plt.scatter(W_values, Loss_values, color='blue')\n",
        "\n",
        "# 최저값 파라미터(W), 손실 함수(Loss) 표시\n",
        "plt.scatter(W_values[Loss_argmin], Loss_values[Loss_argmin], color='red')\n",
        "\n",
        "plt.show()"
      ],
      "metadata": {
        "colab": {
          "base_uri": "https://localhost:8080/",
          "height": 484
        },
        "id": "cVieS05qNpit",
        "outputId": "f1e0e8d8-0511-4b83-e48f-0c5e6e6ab7ae"
      },
      "execution_count": null,
      "outputs": [
        {
          "output_type": "stream",
          "name": "stdout",
          "text": [
            "W= 2.5\n",
            "Loss= 0.5\n"
          ]
        },
        {
          "output_type": "display_data",
          "data": {
            "text/plain": [
              "<Figure size 640x480 with 1 Axes>"
            ],
            "image/png": "[encoded data removed]"
          },
          "metadata": {}
        }
      ]
    },
    {
      "cell_type": "markdown",
      "source": [
        "### 기울기(gradient)가 0인 지점이 Loss가 최소인 지점임\n",
        "\n",
        "기울기(gradient)\n",
        "- 미분 가능한 N개의 다변수 함수 f를 각 축이 가리키는 방향마다 편미분한 것\n",
        "- 편미분은 다변수 함수에서 관심이 있는 한 변수만 변수로 생각하고, 나머지 변수들은 상수로 취급한 뒤 미분하는 방법"
      ],
      "metadata": {
        "id": "vG6OpYhFW0Ha"
      }
    },
    {
      "cell_type": "markdown",
      "source": [
        "### 주어진 데이터를 가장 잘 설명하는 함수 찾기"
      ],
      "metadata": {
        "id": "90e2KkktkxHC"
      }
    },
    {
      "cell_type": "markdown",
      "source": [
        "문제: 주어진 데이터를 가장 잘 설명하는 함수 찾기\n",
        "\n",
        "1. 데이터: $Data = [ (0, -1), (1, 0), (2, 4) ]$\n",
        "\n",
        "2. 모델 선택 : 선형 모델 $f(x; W, b) = Wx + b$\n",
        "\n",
        "3. $f$가 주어진 데이터에 가장 잘 부합하는 parameter값($W,b$) 찾기\n",
        "$$\n",
        "\\begin{aligned}\n",
        "f(0; W, b) &\\approx -1 \\\\\n",
        "f(1; W, b) &\\approx 0 \\\\\n",
        "f(2; W, b) &\\approx 4 \\\\\n",
        "\\end{aligned}\n",
        "$$\n",
        "\n",
        "- 손실함수 Loss(W, b)\n",
        "  - https://mathsolver.microsoft.com/ko/solve-problem/@jhhv7chi\n",
        "$$\n",
        "\\begin{aligned}\n",
        "Loss(W, b)&= ((f(x_1)-y_1)^2+(f(x_2)-y_2)^2+(f(x_3)-y_3)^2)\\\\\n",
        "    &= ((f(0)-(-1))^2+(f(1)-0)^2+(f(2)-4)^2)\\\\\n",
        "    &= (((W\\times0+b)-(-1))^2+((W\\times1+b)-0)^2+((W\\times2+b)-4)^2)\\\\\n",
        "    &= 5W^2 + 6bW - 16W + 3b^2 - 6b + 17\n",
        "\\end{aligned}\n",
        "$$\n",
        "\n",
        "\n",
        "- 손실함수의 기울기(gradient)가 0인 parameter값 찾기\n",
        "  - https://mathsolver.microsoft.com/ko/solve-problem/@c9d1yceg\n",
        "\n",
        "$$\n",
        "\\begin{aligned}\n",
        "{\\partial Loss(W, b)}\\over{\\partial W} &= 0\\\\\n",
        "{\\partial Loss(W, b)}\\over{\\partial b} &= 0\\\\\n",
        "\\end{aligned}\n",
        "$$\n",
        "$$\n",
        "\\begin{aligned}\n",
        "{\\partial Loss(W, b)}\\over{\\partial W} &= 10W + 6b - 16\\\\\n",
        "{\\partial Loss(W, b)}\\over{\\partial b} &= 6W + 6b - 6\\\\\n",
        "\\end{aligned}\n",
        "$$\n",
        "\n",
        "$$\n",
        "\\begin{cases}\n",
        "10W + 6b - 16 &= 0\\\\\n",
        "6W + 6b - 6 &= 0\\\\\n",
        "\\end{cases}\n",
        "\\\\\n",
        "W=2.5\\\\\n",
        "b=-1.5\\\\\n",
        "$$\n",
        "\n"
      ],
      "metadata": {
        "id": "qr95EiOsXrn9"
      }
    },
    {
      "cell_type": "markdown",
      "source": [
        "#### [code] 찾은 W, b 파라미터 값 적용한 선 그리기"
      ],
      "metadata": {
        "id": "V538-qz4k7kC"
      }
    },
    {
      "cell_type": "code",
      "source": [
        "# 학습 데이터 생성\n",
        "x = [0, 1, 2]\n",
        "y = [-1, 0, 4]\n",
        "\n",
        "# Loss가 최소인 파라미터 값 설정\n",
        "W = 2.5\n",
        "b = -1.5\n",
        "\n",
        "print('선형모델', W,'x+', b,'의 평균제곱오차 =', Loss(x, y, W, b))\n",
        "\n",
        "# 입력값(x, y) - 특징 값(x, feature), 결과 값(y, label)는 점으로 표시\n",
        "plt.scatter(x, y)\n",
        "# 예측값(x, y') - 선형회귀 함수로 예측한 값(y')은 선으로 표시\n",
        "plt.plot([min(x), max(x)], [f(min(x)), f(max(x))], color='red')\n",
        "plt.show()"
      ],
      "metadata": {
        "id": "FdL6cOwAC22X",
        "colab": {
          "base_uri": "https://localhost:8080/",
          "height": 447
        },
        "outputId": "6cb50bb5-a468-4ff7-de5d-4277f98212a5"
      },
      "execution_count": null,
      "outputs": [
        {
          "output_type": "stream",
          "name": "stdout",
          "text": [
            "선형모델 2.5 x+ -1.5 의 평균제곱오차 = 0.5\n"
          ]
        },
        {
          "output_type": "display_data",
          "data": {
            "text/plain": [
              "<Figure size 640x480 with 1 Axes>"
            ],
            "image/png": "[encoded data removed]"
          },
          "metadata": {}
        }
      ]
    },
    {
      "cell_type": "markdown",
      "source": [
        "## 경사하강법(GD, Gradient Descent)\n",
        "- 한 지점에서 출발해 최저값에 닿길 바라며 점점 이동해 가는 방법\n",
        "- 함수의 기울기(경사)를 구하고 경사의 반대 방향으로 계속 이동시켜 극값에 이를 때까지 반복하여 최저값을 찾는 방법.\n",
        "- 손실 함수가 어떠한 형태라도 적용가능함\n",
        "\n",
        "<img src='https://blog.kakaocdn.net/dn/rXDcn/btrIuYYVC1u/IdVkBIjf39X8Xl6PBA0w40/img.gif'>"
      ],
      "metadata": {
        "id": "Y2U47uppI7Je"
      }
    },
    {
      "cell_type": "markdown",
      "source": [
        "#### 기울기(경사, gradient)\n",
        "\n",
        "<img src='https://oopy.lazyrockets.com/api/v2/notion/image?src=https%3A%2F%2Fs3-us-west-2.amazonaws.com%2Fsecure.notion-static.com%2F8be8be3f-bd7d-486c-986b-ab934cacd470%2F%25EC%258A%25A4%25ED%2581%25AC%25EB%25A6%25B0%25EC%2583%25B7_2022-08-17_%25EC%2598%25A4%25ED%259B%2584_8.39.19.png&blockId=27b7f80f-bdff-4f07-be71-4dcd6fd8fc8e' width=500>\n",
        "\n",
        "<img src='https://img1.daumcdn.net/thumb/R1280x0/?scode=mtistory2&fname=https%3A%2F%2Fblog.kakaocdn.net%2Fdn%2FQyNLU%2FbtqUsdEUq74%2FpXLCoKOhp8ywMsIgauDuX1%2Fimg.jpg' width=500>\n",
        "\n",
        "이미지 출처: https://questionet.tistory.com/17"
      ],
      "metadata": {
        "id": "6244X08Ua0gs"
      }
    },
    {
      "cell_type": "markdown",
      "source": [
        "#### Local minimum vs Global minimum\n",
        "<img src='https://raw.githubusercontent.com/angeloyeo/angeloyeo.github.io/master/pics/2020-08-16-gradient_descent/pic5.png' width=400>\n"
      ],
      "metadata": {
        "id": "k1qjqJx09dZl"
      }
    },
    {
      "cell_type": "markdown",
      "source": [
        "#### 학습률(learning rate) $\\eta$\n",
        "  - 한 번에 기울기를 변경하는 양\n",
        "  - 한번 움직일 때 얼마나 이동할 지 비율을 정하자\n",
        "\n",
        "<img src='https://blog.kakaocdn.net/dn/bHQiXB/btq6kFvVKu9/lkRTprJPlCGJ0YWw9jPp5K/img.png' width=400>\n",
        "\n",
        "<img src='https://raw.githubusercontent.com/angeloyeo/angeloyeo.github.io/master/pics/2020-08-16-gradient_descent/pic4.png' width=600>"
      ],
      "metadata": {
        "id": "y6PIM912f7HB"
      }
    },
    {
      "cell_type": "markdown",
      "source": [
        "#### 선형회귀에서 경사하강법\n",
        "1. 초기화 한다.\n",
        "  - $W$와 $b$를 임의의 초기값으로 설정한다.\n",
        "  - 학습률($lrate$, $\\eta$)을 설정한다.\n",
        "\n",
        "2. 현재 손실함수에서 $W$의 기울기를 구한다. 손실함수($Loss$)를 $W$에 대하여 미분한다.\n",
        "$\n",
        "\\begin{aligned}\n",
        "{Loss(W, b)} &= {{1 \\over n} {\\sum_{i=1}^n ((W x_i+b)-y_i)^2}}\n",
        "\\\\\n",
        "{\\partial Loss(W, b)}\\over{\\partial W}\n",
        "  &= {1 \\over n}{\\sum_{i=1}^n 2((W x_i+b)-y_i)(x_i)}\n",
        "  &= {2 \\over n} {\\sum_{i=1}^n x_i((W x_i+b)-y_i)} \\\\\n",
        "\\end{aligned}\n",
        "$\n",
        "\n",
        "3. 현재 손실함수에서 $b$의 기울기를 구한다. 손실함수를 b에 대하여 미분한다.\n",
        "$\n",
        "\\begin{aligned}\n",
        "{Loss(W, b)} &= {1 \\over n} {\\sum_{i=1}^n ((W x_i+b)-y_i)^2}\n",
        "\\\\\n",
        "{\\partial Loss(W, b)}\\over{\\partial b}\n",
        "  &= {2 \\over n} {\\sum_{i=1}^n ((W x_i+b)-y_i)} \\\\\n",
        "\\end{aligned}\n",
        "$\n",
        "\n",
        "4. 학습률($lrate$)만큼 파라미터 값($W, b$)을 업데이트 한다.\n",
        "$\n",
        "\\begin{aligned}\n",
        "{W^{t+1}} &= {W^{t}-lrate*{{\\partial Loss(W, b)}\\over{\\partial W}}}\\\\\n",
        "{b^{t+1}} &= {b^{t}-lrate*{{\\partial Loss(W, b)}\\over{\\partial b}}}\\\\\n",
        "\\end{aligned}\n",
        "$"
      ],
      "metadata": {
        "id": "NJCcknxmaLPM"
      }
    },
    {
      "cell_type": "markdown",
      "source": [
        "#### [code] 경사하강법 - 수식 적용"
      ],
      "metadata": {
        "id": "ubHKew-SkYzS"
      }
    },
    {
      "cell_type": "code",
      "execution_count": null,
      "metadata": {
        "colab": {
          "base_uri": "https://localhost:8080/",
          "height": 1000
        },
        "id": "sEKfpC7oD1Dk",
        "outputId": "dd4dece4-651d-44c4-f1e5-a9d48dc2afe5"
      },
      "outputs": [
        {
          "output_type": "stream",
          "name": "stdout",
          "text": [
            "학습 횟수: 0 가중치(W): 1.001 바이어스(b): 0.499\n",
            "학습 횟수: 100 가중치(W): 1.0949321000443737 바이어스(b): 0.399391385592714\n",
            "학습 횟수: 200 가중치(W): 1.1790105023838526 바이어스(b): 0.30177097659975893\n",
            "학습 횟수: 300 가중치(W): 1.2555773911222183 바이어스(b): 0.2073330266811996\n",
            "학습 횟수: 400 가중치(W): 1.3261604418495945 바이어스(b): 0.11671155941068263\n",
            "학습 횟수: 500 가중치(W): 1.3917784842354306 바이어스(b): 0.030199219438196513\n",
            "학습 횟수: 600 가중치(W): 1.453131125971798 바이어스(b): -0.05211743305938203\n",
            "학습 횟수: 700 가중치(W): 1.5107164631517744 바이어스(b): -0.13027438538213976\n",
            "학습 횟수: 800 가중치(W): 1.5649042190834537 바이어스(b): -0.20437868983643961\n",
            "학습 횟수: 900 가중치(W): 1.615981254160136 바이어스(b): -0.2745768280886273\n",
            "학습 횟수: 1000 가중치(W): 1.66417994557963 바이어스(b): -0.3410353588811155\n",
            "학습 횟수: 1100 가중치(W): 1.7096959428684844 바이어스(b): -0.40392916332524015\n",
            "학습 횟수: 1200 가중치(W): 1.7526993310448888 바이어스(b): -0.4634343850445652\n",
            "학습 횟수: 1300 가중치(W): 1.7933417001787022 바이어스(b): -0.5197242672436049\n",
            "학습 횟수: 1400 가중치(W): 1.8317606701365245 바이어스(b): -0.5729667733097261\n",
            "학습 횟수: 1500 가중치(W): 1.8680828306412431 바이어스(b): -0.6233233016788517\n",
            "학습 횟수: 1600 가중치(W): 1.9024256919991527 바이어스(b): -0.6709480684619332\n",
            "학습 횟수: 1700 가중치(W): 1.9348990157973474 바이어스(b): -0.7159878941156492\n",
            "학습 횟수: 1800 가중치(W): 1.9656057547840315 바이어스(b): -0.7585822312781986\n",
            "학습 횟수: 1900 가중치(W): 1.9946427443193882 바이어스(b): -0.7988633333445235\n",
            "학습 횟수: 2000 가중치(W): 2.0221012339654836 바이어스(b): -0.8369565020263339\n",
            "학습 횟수: 2100 가중치(W): 2.0480673144170676 바이어스(b): -0.8729803760784747\n",
            "학습 횟수: 2200 가중치(W): 2.0726222742826432 바이어스(b): -0.9070472381805277\n",
            "학습 횟수: 2300 가중치(W): 2.095842908386819 바이어스(b): -0.939263326114731\n",
            "학습 횟수: 2400 가중치(W): 2.11780179129438 바이어스(b): -0.9697291400305282\n",
            "학습 횟수: 2500 가중치(W): 2.138567524802717 바이어스(b): -0.998539741066065\n",
            "학습 횟수: 2600 가중치(W): 2.1582049650658943 바이어스(b): -1.0257850387337692\n",
            "학습 횟수: 2700 가중치(W): 2.176775433089758 바이어스(b): -1.051550065782926\n",
            "학습 횟수: 2800 가중치(W): 2.1943369111328956 바이어스(b): -1.0759152400438305\n",
            "학습 횟수: 2900 가중치(W): 2.2109442267900743 바이어스(b): -1.0989566132322774\n",
            "학습 횟수: 3000 가중치(W): 2.226649226053692 바이어스(b): -1.120746106971413\n",
            "학습 횟수: 3100 가중치(W): 2.241500936340226 바이어스(b): -1.1413517364457326\n",
            "학습 횟수: 3200 가중치(W): 2.255545720267367 바이어스(b): -1.1608378221858526\n",
            "학습 횟수: 3300 가중치(W): 2.268827420833398 바이어스(b): -1.1792651905215532\n",
            "학습 횟수: 3400 가중치(W): 2.2813874985582494 바이어스(b): -1.1966913632522072\n",
            "학습 횟수: 3500 가중치(W): 2.2932651610802206 바이어스(b): -1.2131707370791962\n",
            "학습 횟수: 3600 가중치(W): 2.3044974856537 바이어스(b): -1.228754753331036\n",
            "학습 횟수: 3700 가중치(W): 2.315119534955538 바이어스(b): -1.243492058492769\n",
            "학습 횟수: 3800 가중치(W): 2.325164466577252 바이어스(b): -1.2574286560294659\n",
            "학습 횟수: 3900 가중치(W): 2.334663636554576 바이어스(b): -1.2706080499707275\n",
            "학습 횟수: 4000 가중치(W): 2.343646697263516 바이어스(b): -1.283071380700107\n",
            "학습 횟수: 4100 가중치(W): 2.35214168999223 바이어스(b): -1.2948575533706022\n",
            "학습 횟수: 4200 가중치(W): 2.3601751324800264 바이어스(b): -1.306003359345444\n",
            "학습 횟수: 4300 가중치(W): 2.3677721016981845 바이어스(b): -1.3165435910422068\n",
            "학습 횟수: 4400 가중치(W): 2.374956312131838 바이어스(b): -1.3265111505381126\n",
            "학습 횟수: 4500 가중치(W): 2.381750189807893 바이어스(b): -1.33593715227516\n",
            "학습 횟수: 4600 가중치(W): 2.3881749423003598 바이어스(b): -1.3448510201853994\n",
            "학습 횟수: 4700 가중치(W): 2.394250624931866 바이어스(b): -1.3532805795394367\n",
            "학습 횟수: 4800 가중치(W): 2.399996203378111 바이어스(b): -1.3612521438047318\n",
            "학습 횟수: 4900 가중치(W): 2.4054296128707913 바이어스(b): -1.3687905967848075\n",
            "학습 횟수: 5000 가중치(W): 2.410567814183827 바이어스(b): -1.3759194702957045\n",
            "학습 횟수: 5100 가중치(W): 2.415426846577718 바이어스(b): -1.3826610176221676\n",
            "학습 횟수: 5200 가중치(W): 2.4200218778672626 바이어스(b): -1.3890362829828093\n",
            "학습 횟수: 5300 가중치(W): 2.4243672517690147 바이어스(b): -1.3950651672211147\n",
            "학습 횟수: 5400 가중치(W): 2.42847653267624 바이어스(b): -1.4007664899273178\n",
            "학습 횟수: 5500 가중치(W): 2.4323625480011275 바이어스(b): -1.4061580481850873\n",
            "학습 횟수: 5600 가중치(W): 2.4360374282164905 바이어스(b): -1.411256672126375\n",
            "학습 횟수: 5700 가중치(W): 2.439512644721895 바이어스(b): -1.4160782774678689\n",
            "학습 횟수: 5800 가중치(W): 2.442799045652452 바이어스(b): -1.4206379151930295\n",
            "학습 횟수: 5900 가중치(W): 2.4459068897420444 바이어스(b): -1.424949818534803\n",
            "학습 횟수: 6000 가중치(W): 2.4488458783466966 바이어스(b): -1.4290274474056657\n",
            "학습 횟수: 6100 가중치(W): 2.4516251857280444 바이어스(b): -1.4328835304136944\n",
            "학습 횟수: 6200 가중치(W): 2.454253487691441 바이어스(b): -1.4365301045958305\n",
            "학습 횟수: 6300 가중치(W): 2.4567389886681106 바이어스(b): -1.4399785529923326\n",
            "학습 횟수: 6400 가중치(W): 2.4590894473258493 바이어스(b): -1.443239640179751\n",
            "학습 횟수: 6500 가중치(W): 2.461312200788271 바이어스(b): -1.4463235458733172\n",
            "학습 횟수: 6600 가중치(W): 2.4634141875381523 바이어스(b): -1.449239896703649\n",
            "학습 횟수: 6700 가중치(W): 2.465401969076398 바이어스(b): -1.4519977962669608\n",
            "학습 횟수: 6800 가중치(W): 2.4672817504042377 바이어스(b): -1.454605853542582\n",
            "학습 횟수: 6900 가중치(W): 2.4690593993925734 바이어스(b): -1.457072209766504\n",
            "학습 횟수: 7000 가중치(W): 2.470740465098954 바이어스(b): -1.4594045638448192\n",
            "학습 횟수: 7100 가중치(W): 2.4723301950893606 바이어스(b): -1.4616101963864079\n",
            "학습 횟수: 7200 가중치(W): 2.4738335518188475 바이어스(b): -1.4636959924298767\n",
            "학습 횟수: 7300 가중치(W): 2.475255228122202 바이어스(b): -1.4656684629356913\n",
            "학습 횟수: 7400 가중치(W): 2.4765996618629607 바이어스(b): -1.467533765110604\n",
            "학습 횟수: 7500 가중치(W): 2.4778710497865175 바이어스(b): -1.4692977216278147\n",
            "학습 횟수: 7600 가중치(W): 2.4790733606205593 바이어스(b): -1.4709658388028524\n",
            "학습 횟수: 7700 가중치(W): 2.4802103474637356 바이어스(b): -1.4725433237819365\n",
            "학습 횟수: 7800 가중치(W): 2.481285559501212 바이어스(b): -1.4740351007964492\n",
            "학습 횟수: 7900 가중치(W): 2.482302353083721 바이어스(b): -1.4754458265342758\n",
            "학습 횟수: 8000 가중치(W): 2.483263902204633 바이어스(b): -1.4767799046759855\n",
            "학습 횟수: 8100 가중치(W): 2.484173208407814 바이어스(b): -1.4780414996412332\n",
            "학습 횟수: 8200 가중치(W): 2.485033110157145 바이어스(b): -1.4792345495882924\n",
            "학습 횟수: 8300 가중치(W): 2.485846291696999 바이어스(b): -1.480362778707293\n",
            "학습 횟수: 8400 가중치(W): 2.486615291431302 바이어스(b): -1.4814297088455477\n",
            "학습 횟수: 8500 가중치(W): 2.487342509847331 바이어스(b): -1.4824386705012498\n",
            "학습 횟수: 8600 가중치(W): 2.4880302170090163 바이어스(b): -1.4833928132198544\n",
            "학습 횟수: 8700 가중치(W): 2.488680559643093 바이어스(b): -1.484295115425613\n",
            "학습 횟수: 8800 가중치(W): 2.4892955678402786 바이어스(b): -1.485148393718935\n",
            "학습 횟수: 8900 가중치(W): 2.489877161392334 바이어스(b): -1.4859553116686068\n",
            "학습 횟수: 9000 가중치(W): 2.4904271557848316 바이어스(b): -1.48671838812631\n",
            "학습 횟수: 9100 가중치(W): 2.490947267864324 바이어스(b): -1.4874400050893934\n",
            "학습 횟수: 9200 가중치(W): 2.4914391211975997 바이어스(b): -1.4881224151364523\n",
            "학습 횟수: 9300 가중치(W): 2.491904251139766 바이어스(b): -1.4887677484589064\n",
            "학습 횟수: 9400 가중치(W): 2.492344109626972 바이어스(b): -1.4893780195105493\n",
            "학습 횟수: 9500 가중치(W): 2.492760069708718 바이어스(b): -1.4899551332958065\n",
            "학습 횟수: 9600 가중치(W): 2.4931534298339355 바이어스(b): -1.4905008913163384\n",
            "학습 횟수: 9700 가중치(W): 2.493525417904191 바이어스(b): -1.4910169971945626\n",
            "학습 횟수: 9800 가중치(W): 2.493877195106659 바이어스(b): -1.491505061991628\n",
            "학습 횟수: 9900 가중치(W): 2.494209859538861 바이어스(b): -1.491966609236456\n",
            "학습 횟수: 9999 가중치(W): 2.4945213899337477 바이어스(b): -1.4923988345708226\n"
          ]
        },
        {
          "output_type": "display_data",
          "data": {
            "text/plain": [
              "<Figure size 640x480 with 1 Axes>"
            ],
            "image/png": "[encoded data removed]"
          },
          "metadata": {}
        }
      ],
      "source": [
        "import numpy as np\n",
        "import matplotlib.pyplot as plt\n",
        "\n",
        "# 데이터\n",
        "X = np.array([0, 1, 2])\n",
        "y = np.array([-1, 0, 4])\n",
        "\n",
        "# 초기값 설정\n",
        "W = 1.0           # 기울기\n",
        "b = 0.5           # 절편\n",
        "lrate = 0.001     # 학습률: 한 번에 기울기를 변경하는 양\n",
        "epochs = 10000    # 반복 횟수: 모든 학습 데이터셋을 학습하는 횟수\n",
        "n = float(len(X)) # 입력 데이터의 개수\n",
        "\n",
        "# 경사 하강: 오차가 최소일 때까지 파라미터값(W,b) 업데이트\n",
        "for i in range(epochs):\n",
        "\n",
        "  y_pred = W*X + b  \t# 선형 회귀 예측값\n",
        "  dW = (2/n) * sum(X * (y_pred-y)) \t# 현재 손실함수에서 W의 기울기 구하기\n",
        "  db = (2/n) * sum(y_pred-y)  \t# 현재 손실함수에서 b의 기울기 구하기\n",
        "  W = W - lrate * dW  # 가중치(W) 업데이트\n",
        "  b = b - lrate * db  # 바이어스(b) 업데이트\n",
        "\n",
        "  if i % 100 == 0 :\n",
        "      print('학습 횟수:', i, '가중치(W):', W, '바이어스(b):', b)\n",
        "\n",
        "# 최종 파라미터 값 출력\n",
        "print('학습 횟수:', i, '가중치(W):', W, '바이어스(b):', b)\n",
        "\n",
        "# 예측값을 만든다.\n",
        "y_pred = W * X + b\n",
        "\n",
        "# 입력 데이터를 그래프 상에 찍는다.\n",
        "plt.scatter(X, y)\n",
        "\n",
        "# 예측값은 선그래프로 그린다.\n",
        "plt.plot([min(X), max(X)], [min(y_pred), max(y_pred)], color='red')\n",
        "plt.show()"
      ]
    }
  ]
}